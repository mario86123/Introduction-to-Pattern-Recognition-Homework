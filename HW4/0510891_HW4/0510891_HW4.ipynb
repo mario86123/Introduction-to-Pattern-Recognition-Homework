{
 "cells": [
  {
   "cell_type": "code",
   "execution_count": 1,
   "metadata": {},
   "outputs": [],
   "source": [
    "import numpy as np\n",
    "import pandas as pd\n",
    "from sklearn.svm import SVC, SVR\n",
    "from sklearn.metrics import accuracy_score\n",
    "import random\n",
    "import matplotlib.pyplot as plt"
   ]
  },
  {
   "cell_type": "markdown",
   "metadata": {},
   "source": [
    "## Load data"
   ]
  },
  {
   "cell_type": "code",
   "execution_count": 2,
   "metadata": {},
   "outputs": [],
   "source": [
    "x_train = np.load(\"x_train.npy\")\n",
    "y_train = np.load(\"y_train.npy\")\n",
    "x_test = np.load(\"x_test.npy\")\n",
    "y_test = np.load(\"y_test.npy\")"
   ]
  },
  {
   "cell_type": "code",
   "execution_count": 3,
   "metadata": {},
   "outputs": [
    {
     "name": "stdout",
     "output_type": "stream",
     "text": [
      "(550, 300)\n",
      "(550,)\n"
     ]
    }
   ],
   "source": [
    "# 550 data with 300 features\n",
    "print(x_train.shape)\n",
    "print(y_train.shape)"
   ]
  },
  {
   "cell_type": "code",
   "execution_count": 4,
   "metadata": {},
   "outputs": [
    {
     "name": "stdout",
     "output_type": "stream",
     "text": [
      "[0 1]\n"
     ]
    }
   ],
   "source": [
    "# It's a binary classification problem \n",
    "print(np.unique(y_train))"
   ]
  },
  {
   "cell_type": "markdown",
   "metadata": {},
   "source": [
    "## Question 1\n",
    "K-fold data partition: Implement the K-fold cross-validation function. Your function should take K as an argument and return a list of lists (len(list) should equal to K), which contains K elements. Each element is a list contains two parts, the first part contains the index of all training folds, e.g. Fold 2 to Fold 5 in split 1. The second part contains the index of validation fold, e.g. Fold 1 in  split 1"
   ]
  },
  {
   "cell_type": "code",
   "execution_count": 5,
   "metadata": {},
   "outputs": [],
   "source": [
    "def cross_validation(x_train, y_train, k=5):\n",
    "    ran_num = np.arange(x_train.shape[0])\n",
    "    random.shuffle(ran_num)\n",
    "    num_of_data_in_val_fold = int(x_train.shape[0] / k)\n",
    "    remainder = x_train.shape[0] % k\n",
    "    kf = []\n",
    "    for i in range(k):\n",
    "        temp = [[] for k in range(2)]\n",
    "        if i < remainder:\n",
    "            for j in range(num_of_data_in_val_fold + 1):\n",
    "                temp[1].append(ran_num[i * (num_of_data_in_val_fold + 1) + j])\n",
    "        else:\n",
    "            for j in range(num_of_data_in_val_fold):\n",
    "                temp[1].append(ran_num[remainder * (num_of_data_in_val_fold + 1) + (i - remainder) * num_of_data_in_val_fold + j])\n",
    "        kf.append(temp)\n",
    "    for i in range(k):\n",
    "        temp = []\n",
    "        for j in range(k):\n",
    "            if (j != i):\n",
    "                temp += (kf[j][1])\n",
    "        kf[i][0] = temp\n",
    "    for i in range(k):\n",
    "        kf[i][0] = np.array(kf[i][0])\n",
    "        kf[i][1] = np.array(kf[i][1])\n",
    "    return kf"
   ]
  },
  {
   "cell_type": "code",
   "execution_count": 6,
   "metadata": {},
   "outputs": [],
   "source": [
    "kfold_data = cross_validation(x_train, y_train, k=10)\n",
    "assert len(kfold_data) == 10 # should contain 10 fold of data\n",
    "assert len(kfold_data[0]) == 2 # each element should contain train fold and validation fold\n",
    "assert kfold_data[0][1].shape[0] == 55 # The number of data in each validation fold should equal to training data divieded by K"
   ]
  },
  {
   "cell_type": "markdown",
   "metadata": {},
   "source": [
    "## example"
   ]
  },
  {
   "cell_type": "code",
   "execution_count": 7,
   "metadata": {
    "scrolled": true
   },
   "outputs": [
    {
     "name": "stdout",
     "output_type": "stream",
     "text": [
      "Split: 1, Training index: [ 0  1  2  3  4  5  6  7  8 10 11 12 13 14 18 19], Validation index: [ 9 15 16 17]\n",
      "Split: 2, Training index: [ 0  1  2  3  5  6  7  9 10 11 13 14 15 16 17 18], Validation index: [ 4  8 12 19]\n",
      "Split: 3, Training index: [ 0  1  2  4  5  8  9 10 11 12 13 14 15 16 17 19], Validation index: [ 3  6  7 18]\n",
      "Split: 4, Training index: [ 0  1  2  3  4  6  7  8  9 12 14 15 16 17 18 19], Validation index: [ 5 10 11 13]\n",
      "Split: 5, Training index: [ 3  4  5  6  7  8  9 10 11 12 13 15 16 17 18 19], Validation index: [ 0  1  2 14]\n"
     ]
    }
   ],
   "source": [
    "from sklearn.model_selection import KFold\n",
    "\n",
    "X = np.arange(20)\n",
    "kf = KFold(n_splits=5, shuffle=True)\n",
    "kfold_data= []\n",
    "for i, (train_index, val_index) in enumerate(kf.split(X)):\n",
    "    print(\"Split: %s, Training index: %s, Validation index: %s\" % (i+1, train_index, val_index))\n",
    "    kfold_data.append([train_index, val_index])"
   ]
  },
  {
   "cell_type": "code",
   "execution_count": 8,
   "metadata": {},
   "outputs": [],
   "source": [
    "assert len(kfold_data) == 5 # should contain 5 fold of data\n",
    "assert len(kfold_data[0]) == 2 # each element should contains index of training fold and validation fold\n",
    "assert kfold_data[0][1].shape[0] == 4 # The number of data in each validation fold should equal to training data divieded by K"
   ]
  },
  {
   "cell_type": "markdown",
   "metadata": {},
   "source": [
    "## Question 2\n",
    "Using sklearn.svm.SVC to train a classifier on the provided train set and conduct the grid search of “C”, “kernel” and “gamma” to find the best parameters by cross-validation."
   ]
  },
  {
   "cell_type": "code",
   "execution_count": 9,
   "metadata": {},
   "outputs": [],
   "source": [
    "## your code\n",
    "kfold_data = cross_validation(x_train, y_train, k=5)\n",
    "C_range = [0.1, 1, 10, 100, 1000, 10000]\n",
    "gamma_range = [0.0001, 0.001, 0.01, 0.1, 1, 10]\n",
    "best_acc, best_C, best_gamma = 0, 0, 0\n",
    "scores = []\n",
    "for C in C_range:\n",
    "    for gamma in gamma_range:\n",
    "        total = 0\n",
    "        for i in range(len(kfold_data)):\n",
    "            clf = SVC(C=C, kernel='rbf', gamma=gamma)\n",
    "            clf.fit(x_train[kfold_data[i][0]], y_train[kfold_data[i][0]])\n",
    "            total += clf.score(x_train[kfold_data[i][1]], y_train[kfold_data[i][1]])\n",
    "        acc = total / len(kfold_data)\n",
    "        scores.append(acc)\n",
    "        if acc >= best_acc:\n",
    "            best_acc, best_C, best_gamma = acc, C, gamma\n",
    "#         print(\"C = \" + str(C) + \", gamma = \" + str(gamma) + \", acc = \" + str(acc) + \": \")"
   ]
  },
  {
   "cell_type": "code",
   "execution_count": 10,
   "metadata": {},
   "outputs": [
    {
     "name": "stdout",
     "output_type": "stream",
     "text": [
      "The best parameters are C = 10000.0, gamma = 0.0010 with a score of 0.892727\n"
     ]
    }
   ],
   "source": [
    "print(\"The best parameters are C = %0.1f, gamma = %.4f with a score of %f\" % (best_C, best_gamma, best_acc))"
   ]
  },
  {
   "cell_type": "markdown",
   "metadata": {},
   "source": [
    "## Question 3\n",
    "Plot the grid search results of your SVM. The x, y represents the hyperparameters of “gamma” and “C”, respectively. And the color represents the average score of validation folds\n",
    "You reults should be look like the reference image ![image](https://miro.medium.com/max/1296/1*wGWTup9r4cVytB5MOnsjdQ.png) "
   ]
  },
  {
   "cell_type": "code",
   "execution_count": 11,
   "metadata": {},
   "outputs": [
    {
     "data": {
      "image/png": "[encoded data removed]",
      "text/plain": [
       "<Figure size 432x288 with 2 Axes>"
      ]
     },
     "metadata": {
      "needs_background": "light"
     },
     "output_type": "display_data"
    }
   ],
   "source": [
    "scores = np.array(scores).reshape(len(C_range), len(gamma_range))\n",
    "for y in range(scores.shape[0]):\n",
    "    for x in range(scores.shape[1]):\n",
    "        plt.text(x + 0.5, y + 0.5, '%.4f' % scores[y, x], ha='center', va='center',)\n",
    "plt.colorbar(plt.pcolor(scores))\n",
    "plt.title('Hyperparameter Gridsearch')\n",
    "plt.xlabel('gamma parameter')\n",
    "plt.ylabel('C parameter')\n",
    "plt.xticks(np.arange(len(gamma_range))+0.5, gamma_range)\n",
    "plt.yticks(np.arange(len(C_range))+0.5, C_range, rotation=90)\n",
    "plt.show()"
   ]
  },
  {
   "cell_type": "markdown",
   "metadata": {},
   "source": [
    "## Question 4\n",
    "Train your SVM model by the best parameters you found from question 2 on the whole training set and evaluate the performance on the test set. **You accuracy should over 0.85**"
   ]
  },
  {
   "cell_type": "code",
   "execution_count": 12,
   "metadata": {},
   "outputs": [
    {
     "name": "stdout",
     "output_type": "stream",
     "text": [
      "Accuracy score:  0.8958333333333334\n"
     ]
    }
   ],
   "source": [
    "best_model = SVC(C=best_C, kernel='rbf', gamma=best_gamma)\n",
    "best_model.fit(x_train, y_train)\n",
    "y_pred = best_model.predict(x_test)\n",
    "print(\"Accuracy score: \", accuracy_score(y_pred, y_test))"
   ]
  },
  {
   "cell_type": "markdown",
   "metadata": {},
   "source": [
    "## Question 5\n",
    "Compare the performance of each model you have implemented from HW1"
   ]
  },
  {
   "cell_type": "markdown",
   "metadata": {},
   "source": [
    "### HW1"
   ]
  },
  {
   "cell_type": "code",
   "execution_count": 13,
   "metadata": {},
   "outputs": [
    {
     "name": "stdout",
     "output_type": "stream",
     "text": [
      "(500, 1)\n",
      "(500, 1)\n"
     ]
    }
   ],
   "source": [
    "train_df = pd.read_csv(\"../HW1/train_data.csv\")\n",
    "x_train = train_df['x_train'].to_numpy().reshape(-1,1)\n",
    "y_train = train_df['y_train'].to_numpy().reshape(-1,1)\n",
    "\n",
    "test_df = pd.read_csv(\"../HW1/test_data.csv\")\n",
    "x_test = test_df['x_test'].to_numpy().reshape(-1,1)\n",
    "y_test = test_df['y_test'].to_numpy().reshape(-1,1)\n",
    "\n",
    "print(x_train.shape)\n",
    "print(y_train.shape)"
   ]
  },
  {
   "cell_type": "code",
   "execution_count": 14,
   "metadata": {},
   "outputs": [],
   "source": [
    "class LinearRegression():\n",
    "    def __init__(self, learning_rate=0.001, batch_size=32, n_epochs=100):\n",
    "        self.lr = learning_rate\n",
    "        self.batch_size = batch_size\n",
    "        self.n_epochs = n_epochs\n",
    "        self.loss_history = []\n",
    "\n",
    "    def fit(self, X, y):\n",
    "        self.beta0 = np.random.rand(X.shape[1])\n",
    "        self.beta1 = np.random.rand(1)\n",
    "        for epoch in range(self.n_epochs):\n",
    "            loss = 0\n",
    "            for i in range(0, len(X), self.batch_size):\n",
    "                # Get batch data\n",
    "                x_batch = X[i:i+self.batch_size]\n",
    "                y_batch = y[i:i+self.batch_size]\n",
    "\n",
    "                # Get preidction & Loss\n",
    "                y_pred = (x_batch*self.beta0) + self.beta1\n",
    "                loss = y_pred - y_batch\n",
    "\n",
    "                # Calculate gradient\n",
    "                gradient_beta0 = 2*np.sum(x_batch * loss) / len(x_batch)\n",
    "                gradient_beta1 = 2*np.sum(loss) / len(x_batch)\n",
    "\n",
    "                # Update weights\n",
    "                self.beta0 = self.beta0 - self.lr*gradient_beta0\n",
    "                self.beta1 = self.beta1 - self.lr*gradient_beta1\n",
    "                self.loss_history.append(self.MSE(y_pred, y_batch))\n",
    "\n",
    "    def MSE(self, x, y):\n",
    "        mse = np.mean((x-y) ** 2)\n",
    "        return mse\n",
    "\n",
    "    def predict(self, x):\n",
    "        prediction = x * self.beta0 + self.beta1\n",
    "        return prediction"
   ]
  },
  {
   "cell_type": "code",
   "execution_count": 15,
   "metadata": {},
   "outputs": [],
   "source": [
    "lr_model = LinearRegression(learning_rate=0.01, batch_size=len(x_train), n_epochs=500)\n",
    "lr_model.fit(x_train, y_train)\n",
    "y_lr_pred = lr_model.predict(x_test)"
   ]
  },
  {
   "cell_type": "code",
   "execution_count": 16,
   "metadata": {},
   "outputs": [
    {
     "name": "stdout",
     "output_type": "stream",
     "text": [
      "The best parameters are C = 1000.0, gamma = 0.0010 with a score of 0.702576\n"
     ]
    }
   ],
   "source": [
    "y_train = y_train.reshape((500,))\n",
    "kfold_data = cross_validation(x_train, y_train, k=5)\n",
    "# C_range = [0.1, 1, 10, 100, 1000, 10000, 100000]\n",
    "C_range = [0.1, 1, 10, 100, 1000]\n",
    "gamma_range = [0.00001, 0.0001, 0.001, 0.01, 0.1]\n",
    "best_acc, best_C, best_gamma = 0, 0, 0\n",
    "scores = []\n",
    "for C in C_range:\n",
    "    for gamma in gamma_range:\n",
    "        total = 0\n",
    "        for i in range(len(kfold_data)):\n",
    "            clf = SVR(C=C, kernel='rbf', gamma=gamma)\n",
    "            clf.fit(x_train[kfold_data[i][0]], y_train[kfold_data[i][0]])\n",
    "            total += clf.score(x_train[kfold_data[i][1]], y_train[kfold_data[i][1]])\n",
    "        acc = total / len(kfold_data)\n",
    "        scores.append(acc)\n",
    "        if acc >= best_acc:\n",
    "            best_acc, best_C, best_gamma = acc, C, gamma\n",
    "#         print(\"C = \" + str(C) + \", gamma = \" + str(gamma) + \", acc = \" + str(acc) + \": \")\n",
    "print(\"The best parameters are C = %0.1f, gamma = %.4f with a score of %f\" % (best_C, best_gamma, best_acc))"
   ]
  },
  {
   "cell_type": "code",
   "execution_count": 17,
   "metadata": {},
   "outputs": [
    {
     "data": {
      "image/png": "[encoded data removed]",
      "text/plain": [
       "<Figure size 432x288 with 2 Axes>"
      ]
     },
     "metadata": {
      "needs_background": "light"
     },
     "output_type": "display_data"
    }
   ],
   "source": [
    "scores = np.array(scores).reshape(len(C_range), len(gamma_range))\n",
    "for y in range(scores.shape[0]):\n",
    "    for x in range(scores.shape[1]):\n",
    "        plt.text(x + 0.5, y + 0.5, '%.4f' % scores[y, x], ha='center', va='center',)\n",
    "plt.colorbar(plt.pcolor(scores))\n",
    "plt.title('Hyperparameter Gridsearch')\n",
    "plt.xlabel('gamma parameter')\n",
    "plt.ylabel('C parameter')\n",
    "plt.xticks(np.arange(len(gamma_range))+0.5, gamma_range)\n",
    "plt.yticks(np.arange(len(C_range))+0.5, C_range, rotation=90)\n",
    "plt.show()"
   ]
  },
  {
   "cell_type": "code",
   "execution_count": 18,
   "metadata": {},
   "outputs": [
    {
     "name": "stdout",
     "output_type": "stream",
     "text": [
      "Square error of Linear regression:  0.06870280209670866\n",
      "Square error of SVM regresssion model:  0.07200436935358709\n"
     ]
    }
   ],
   "source": [
    "best_model = SVR(C=best_C, kernel='rbf', gamma=best_gamma)\n",
    "best_model.fit(x_train, y_train)\n",
    "y_svm_pred = best_model.predict(x_test)\n",
    "y_svm_pred = y_svm_pred.reshape((100, 1))\n",
    "print(\"Square error of Linear regression: \", lr_model.MSE(y_test, y_lr_pred))\n",
    "print(\"Square error of SVM regresssion model: \", lr_model.MSE(y_test, y_svm_pred))"
   ]
  },
  {
   "cell_type": "code",
   "execution_count": null,
   "metadata": {},
   "outputs": [],
   "source": []
  }
 ],
 "metadata": {
  "kernelspec": {
   "display_name": "Python 3",
   "language": "python",
   "name": "python3"
  },
  "language_info": {
   "codemirror_mode": {
    "name": "ipython",
    "version": 3
   },
   "file_extension": ".py",
   "mimetype": "text/x-python",
   "name": "python",
   "nbconvert_exporter": "python",
   "pygments_lexer": "ipython3",
   "version": "3.7.4"
  }
 },
 "nbformat": 4,
 "nbformat_minor": 4
}
