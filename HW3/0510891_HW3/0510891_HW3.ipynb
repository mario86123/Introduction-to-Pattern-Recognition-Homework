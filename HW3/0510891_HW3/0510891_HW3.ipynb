{
 "cells": [
  {
   "cell_type": "markdown",
   "metadata": {},
   "source": [
    "## HW3: Decision Tree and Random Forest\n",
    "In hw3, you need to implement decision tree and random forest by using only numpy, then train your implemented model by the provided dataset and test the performance with testing data\n",
    "\n",
    "Please note that only **NUMPY** can be used to implement your model, you will get no points by simply calling sklearn.tree.DecisionTreeClassifier"
   ]
  },
  {
   "cell_type": "code",
   "execution_count": 1,
   "metadata": {},
   "outputs": [
    {
     "name": "stdout",
     "output_type": "stream",
     "text": [
      "Requirement already satisfied: sklearn in /opt/anaconda3/lib/python3.7/site-packages (0.0)\r\n",
      "Requirement already satisfied: scikit-learn in /opt/anaconda3/lib/python3.7/site-packages (from sklearn) (0.21.3)\r\n",
      "Requirement already satisfied: joblib>=0.11 in /opt/anaconda3/lib/python3.7/site-packages (from scikit-learn->sklearn) (0.13.2)\r\n",
      "Requirement already satisfied: numpy>=1.11.0 in /opt/anaconda3/lib/python3.7/site-packages (from scikit-learn->sklearn) (1.17.2)\r\n",
      "Requirement already satisfied: scipy>=0.17.0 in /opt/anaconda3/lib/python3.7/site-packages (from scikit-learn->sklearn) (1.3.1)\r\n"
     ]
    }
   ],
   "source": [
    "!pip install sklearn"
   ]
  },
  {
   "cell_type": "markdown",
   "metadata": {},
   "source": [
    "## Load data"
   ]
  },
  {
   "cell_type": "code",
   "execution_count": 2,
   "metadata": {},
   "outputs": [],
   "source": [
    "import numpy as np\n",
    "import pandas as pd\n",
    "import math\n",
    "import random\n",
    "import matplotlib.pyplot as plt\n",
    "from sklearn.datasets import load_breast_cancer"
   ]
  },
  {
   "cell_type": "code",
   "execution_count": 3,
   "metadata": {},
   "outputs": [
    {
     "name": "stdout",
     "output_type": "stream",
     "text": [
      "['mean radius' 'mean texture' 'mean perimeter' 'mean area'\n",
      " 'mean smoothness' 'mean compactness' 'mean concavity'\n",
      " 'mean concave points' 'mean symmetry' 'mean fractal dimension'\n",
      " 'radius error' 'texture error' 'perimeter error' 'area error'\n",
      " 'smoothness error' 'compactness error' 'concavity error'\n",
      " 'concave points error' 'symmetry error' 'fractal dimension error'\n",
      " 'worst radius' 'worst texture' 'worst perimeter' 'worst area'\n",
      " 'worst smoothness' 'worst compactness' 'worst concavity'\n",
      " 'worst concave points' 'worst symmetry' 'worst fractal dimension']\n"
     ]
    }
   ],
   "source": [
    "data = load_breast_cancer()\n",
    "feature_names = data['feature_names']\n",
    "print(feature_names)"
   ]
  },
  {
   "cell_type": "code",
   "execution_count": 4,
   "metadata": {},
   "outputs": [],
   "source": [
    "x_train = pd.read_csv(\"x_train.csv\")\n",
    "y_train = pd.read_csv(\"y_train.csv\")\n",
    "x_test = pd.read_csv(\"x_test.csv\")\n",
    "y_test = pd.read_csv(\"y_test.csv\")\n",
    "xy_train = pd.concat([x_train, y_train], axis=1)\n",
    "xy_test = pd.concat([x_test, y_test], axis=1)\n",
    "raw_xy_train = xy_train.values.tolist()\n",
    "raw_xy_test = xy_train.values.tolist()"
   ]
  },
  {
   "cell_type": "markdown",
   "metadata": {},
   "source": [
    "## Question 1\n",
    "Gini Index or Entropy is often used for measuring the “best” splitting of the data. Please compute the Entropy and Gini Index of provided data. Please use the formula from page 666 on the textbook"
   ]
  },
  {
   "cell_type": "code",
   "execution_count": 5,
   "metadata": {},
   "outputs": [],
   "source": [
    "def gini(sequence):\n",
    "    num_of_class_one = 0\n",
    "    size = len(sequence)\n",
    "    if size == 0:\n",
    "        return 0\n",
    "    for i in sequence:\n",
    "        if i == 1:\n",
    "            num_of_class_one += 1\n",
    "    proportion = num_of_class_one / size\n",
    "    return 1 - proportion ** 2 - (1 - proportion) ** 2\n",
    "\n",
    "def entropy(sequence):\n",
    "    num_of_class_one = 0\n",
    "    size = len(sequence)\n",
    "    if size == 0:\n",
    "        return 0\n",
    "    for i in sequence:\n",
    "        if i == 1:\n",
    "            num_of_class_one += 1\n",
    "    proportion = num_of_class_one / size\n",
    "    if proportion == 0:\n",
    "        return 0\n",
    "    return - proportion * math.log(proportion, 2) - proportion * math.log(proportion, 2)"
   ]
  },
  {
   "cell_type": "code",
   "execution_count": 6,
   "metadata": {},
   "outputs": [],
   "source": [
    "# 1 = class 1,\n",
    "# 2 = class 2\n",
    "data = np.array([1,2,1,1,1,1,2,2,1,1,2])"
   ]
  },
  {
   "cell_type": "code",
   "execution_count": 7,
   "metadata": {},
   "outputs": [
    {
     "name": "stdout",
     "output_type": "stream",
     "text": [
      "Gini of data is  0.4628099173553719\n"
     ]
    }
   ],
   "source": [
    "print(\"Gini of data is \", gini(data))"
   ]
  },
  {
   "cell_type": "code",
   "execution_count": 8,
   "metadata": {},
   "outputs": [
    {
     "name": "stdout",
     "output_type": "stream",
     "text": [
      "Entropy of data is  0.8299157956468823\n"
     ]
    }
   ],
   "source": [
    "print(\"Entropy of data is \", entropy(data))"
   ]
  },
  {
   "cell_type": "markdown",
   "metadata": {},
   "source": [
    "## Question 2\n",
    "Implement the Decision Tree algorithm (CART, Classification and Regression Trees) and trained the model by the given arguments, and print the accuracy score on the test data. You should implement two arguments for the Decision Tree algorithm\n",
    "1. **Criterion**: The function to measure the quality of a split. Your model should support “gini” for the Gini impurity and “entropy” for the information gain. \n",
    "2. **Max_depth**: The maximum depth of the tree. If Max_depth=None, then nodes are expanded until all leaves are pure. Max_depth=1 equals to split data once\n"
   ]
  },
  {
   "cell_type": "code",
   "execution_count": 9,
   "metadata": {},
   "outputs": [],
   "source": [
    "class DecisionTree():\n",
    "    def __init__(self, criterion='gini', max_depth=None):\n",
    "        self.max_depth = max_depth\n",
    "        self.criterion = criterion\n",
    "        self.root = None\n",
    "        self.feature_importance = None\n",
    "        \n",
    "    def partition(self, index, value, dataset):\n",
    "        left, right = list(), list()\n",
    "        for row in dataset:\n",
    "            if row[index] < value:\n",
    "                left.append(row)\n",
    "            else:\n",
    "                right.append(row)\n",
    "        return left, right\n",
    "    \n",
    "    def total_impurity(self, groups):\n",
    "        g, y = [], []\n",
    "        for group in groups:\n",
    "            for i in range(len(group)):\n",
    "                y.append(group[i][-1] + 1)\n",
    "            if self.criterion == 'gini':\n",
    "                g.append(gini(np.array(y)))\n",
    "            else:\n",
    "                g.append(entropy(np.array(y)))\n",
    "        p = len(groups[0]) / (len(groups[0]) + len(groups[1]))\n",
    "        return p * g[0] + (1 - p) * g[1]\n",
    "\n",
    "    def find_best_split(self, dataset):\n",
    "        best_feature, best_compare_num, lowest_impurity, best_groups = 0, 0, 999, None\n",
    "        for feature in range(len(dataset[0]) - 1):\n",
    "            for row in dataset:\n",
    "                groups = self.partition(feature, row[feature], dataset)\n",
    "                impurity = self.total_impurity(groups)\n",
    "                if impurity < lowest_impurity:\n",
    "                    best_feature, best_compare_num, lowest_impurity, best_groups = feature, row[feature], impurity, groups\n",
    "        self.feature_importance[best_feature] += self.node_fi(dataset, best_groups)\n",
    "        return {'feature': best_feature, 'value': best_compare_num, 'impurity': lowest_impurity, 'groups': best_groups}\n",
    "    \n",
    "    def leaf(self, group):\n",
    "        classes = [row[-1] for row in group]\n",
    "        return max(set(classes), key=classes.count)\n",
    "    \n",
    "    def split(self, node, depth):\n",
    "        left, right = node['groups']\n",
    "        del(node['groups'])\n",
    "        if not left or not right:\n",
    "            node['left'] = node['right'] = self.leaf(left + right)\n",
    "            return\n",
    "        if depth >= self.max_depth:\n",
    "            node['left'], node['right'] = self.leaf(left), self.leaf(right)\n",
    "            return\n",
    "        node['left'] = self.find_best_split(left)\n",
    "        self.split(node['left'], depth+1)\n",
    "        node['right'] = self.find_best_split(right)\n",
    "        self.split(node['right'], depth+1)\n",
    "\n",
    "    def build_tree(self, dataset):\n",
    "        self.feature_importance = np.zeros(len(dataset[0]) - 1)\n",
    "        self.root = self.find_best_split(dataset)\n",
    "        self.split(self.root, 1)\n",
    "        return self.root\n",
    "\n",
    "    def print_tree(self, node, depth=0):\n",
    "        if isinstance(node, dict):\n",
    "            print('%s[%s < %.3f]' % ((depth*' ', (feature_names[node['feature']]), node['value'])))\n",
    "            self.print_tree(node['left'], depth+1)\n",
    "            self.print_tree(node['right'], depth+1)\n",
    "        else:\n",
    "            print('%s[%s]' % ((depth*' ', node)))\n",
    "\n",
    "    def classify(self, node, row):\n",
    "        if row[node['feature']] < node['value']:\n",
    "            if isinstance(node['left'], dict):\n",
    "                return self.classify(node['left'], row)\n",
    "            else:\n",
    "                return node['left']\n",
    "        else:\n",
    "            if isinstance(node['right'], dict):\n",
    "                return self.classify(node['right'], row)\n",
    "            else:\n",
    "                return node['right']\n",
    "            \n",
    "    def accuracy(self, dataset):\n",
    "        correct = 0\n",
    "        for row in dataset:\n",
    "            result = self.classify(self.root, row)\n",
    "            if result == row[-1]:\n",
    "                correct += 1\n",
    "        return correct / len(dataset)\n",
    "    \n",
    "    def node_fi(self, dataset, groups):\n",
    "        father = gini([row[-1] for row in dataset]) * len(dataset)\n",
    "        son1 = gini([row[-1] for row in groups[0]]) * len(groups[0])\n",
    "        son2 = gini([row[-1] for row in groups[1]]) * len(groups[1])\n",
    "        return father - son1 - son2\n",
    "    \n",
    "    def plot_fi(self):\n",
    "        fi_dict = {k: self.feature_importance[v] for v, k in enumerate(feature_names)}\n",
    "        fi_sorted_list = [i for i in (sorted(fi_dict.items(), key=lambda x:x[1])) if i[1] != 0]\n",
    "        plt.barh(np.arange(len(fi_sorted_list)), [i[1] for i in fi_sorted_list])\n",
    "        plt.yticks(np.arange(len(fi_sorted_list)), [i[0] for i in fi_sorted_list])\n",
    "        plt.title(\"Feature Importance\")\n",
    "        plt.show()"
   ]
  },
  {
   "cell_type": "markdown",
   "metadata": {},
   "source": [
    "### Question 2.1\n",
    "Using Criterion=‘gini’, showing the accuracy score of test data by Max_depth=3 and Max_depth=10, respectively.\n"
   ]
  },
  {
   "cell_type": "code",
   "execution_count": 10,
   "metadata": {},
   "outputs": [
    {
     "name": "stdout",
     "output_type": "stream",
     "text": [
      "accuracy:  0.9178403755868545\n",
      "accuracy:  1.0\n"
     ]
    }
   ],
   "source": [
    "clf_depth3 = DecisionTree(criterion='gini', max_depth=3)\n",
    "clf_depth3.build_tree(raw_xy_train)\n",
    "print(\"accuracy: \", clf_depth3.accuracy(raw_xy_test))\n",
    "\n",
    "clf_depth10 = DecisionTree(criterion='gini', max_depth=10)\n",
    "clf_depth10.build_tree(raw_xy_train)\n",
    "print(\"accuracy: \", clf_depth10.accuracy(raw_xy_test))"
   ]
  },
  {
   "cell_type": "markdown",
   "metadata": {},
   "source": [
    "### Question 2.2\n",
    "Using Max_depth=3, showing the accuracy score of test data by Criterion=‘gini’ and Criterion=’entropy’, respectively.\n"
   ]
  },
  {
   "cell_type": "code",
   "execution_count": 11,
   "metadata": {},
   "outputs": [
    {
     "name": "stdout",
     "output_type": "stream",
     "text": [
      "accuracy:  0.9178403755868545\n",
      "accuracy:  0.9178403755868545\n"
     ]
    }
   ],
   "source": [
    "clf_gini = DecisionTree(criterion='gini', max_depth=3)\n",
    "clf_gini.build_tree(raw_xy_train)\n",
    "print(\"accuracy: \", clf_gini.accuracy(raw_xy_test))\n",
    "\n",
    "clf_entropy = DecisionTree(criterion='entropy', max_depth=3)\n",
    "clf_entropy.build_tree(raw_xy_train)\n",
    "print(\"accuracy: \", clf_entropy.accuracy(raw_xy_test))"
   ]
  },
  {
   "cell_type": "markdown",
   "metadata": {},
   "source": [
    "- Note: All of your accuracy scores should over 0.9\n",
    "- Note: You should get the same results when re-building the model with the same arguments,  no need to prune the trees\n",
    "- Hint: You can use the recursive method to build the nodes\n"
   ]
  },
  {
   "cell_type": "markdown",
   "metadata": {},
   "source": [
    "## Question 3\n",
    "Plot the [feature importance](https://sefiks.com/2020/04/06/feature-importance-in-decision-trees/) of your Decision Tree model. You can get the feature importance by counting the feature used for splitting data.\n",
    "\n",
    "- You can simply plot the feature counts for building tree without normalize the importance\n",
    "\n",
    "![image](https://i2.wp.com/sefiks.com/wp-content/uploads/2020/04/c45-fi-results.jpg?w=481&ssl=1)"
   ]
  },
  {
   "cell_type": "code",
   "execution_count": 12,
   "metadata": {
    "scrolled": true
   },
   "outputs": [
    {
     "data": {
      "image/png": "[encoded data removed]",
      "text/plain": [
       "<Figure size 432x288 with 1 Axes>"
      ]
     },
     "metadata": {
      "needs_background": "light"
     },
     "output_type": "display_data"
    }
   ],
   "source": [
    "clf_gini = DecisionTree(criterion='gini', max_depth=3)\n",
    "clf_gini.build_tree(raw_xy_test)\n",
    "clf_gini.plot_fi()"
   ]
  },
  {
   "cell_type": "markdown",
   "metadata": {},
   "source": [
    "## Question 4\n",
    "implement the Random Forest algorithm by using the CART you just implemented from question 2. You should implement two arguments for the Random Forest.\n",
    "\n",
    "1. **N_estimators**: The number of trees in the forest. \n",
    "2. **Max_features**: The number of random select features to consider when looking for the best split\n",
    "3. **Bootstrap**: Whether bootstrap samples are used when building tree\n"
   ]
  },
  {
   "cell_type": "code",
   "execution_count": 13,
   "metadata": {},
   "outputs": [],
   "source": [
    "class RandomForest(DecisionTree):\n",
    "    def __init__(self, n_estimators, max_features, boostrap=True, criterion='gini', max_depth=3):\n",
    "        DecisionTree.__init__(self, criterion, max_depth)\n",
    "        self.n_estimators = n_estimators\n",
    "        self.max_features = math.floor(max_features)\n",
    "        self.forest = None\n",
    "    \n",
    "    def find_best_split(self, dataset):\n",
    "        best_feature, best_compare_num, lowest_impurity, best_groups = 0, 0, 999, None\n",
    "        select_feature_list = random.sample(list(range(len(feature_names))), max_features)\n",
    "        for feature in select_feature_list:\n",
    "            for row in dataset:\n",
    "                groups = self.partition(feature, row[feature], dataset)\n",
    "                impurity = self.total_impurity(groups)\n",
    "                if impurity < lowest_impurity:\n",
    "                    best_feature, best_compare_num, lowest_impurity, best_groups = feature, row[feature], impurity, groups\n",
    "        self.feature_importance[best_feature] += self.node_fi(dataset, best_groups)\n",
    "        return {'feature': best_feature, 'value': best_compare_num, 'impurity': lowest_impurity, 'groups': best_groups}\n",
    "    \n",
    "    def build_forest(self, dataset):\n",
    "        trees = []\n",
    "        data_list = self.split_data(dataset)\n",
    "        for i in range(self.n_estimators):\n",
    "            clf = DecisionTree(self.criterion, self.max_depth)\n",
    "            trees.append(clf.build_tree(data_list[i]))\n",
    "        self.forest = trees\n",
    "        return trees\n",
    "    \n",
    "    def print_forest(self, forest, depth=0):\n",
    "        for i in range(self.n_estimators):\n",
    "            self.print_tree(forest[i], depth=0)\n",
    "        \n",
    "    def split_data(self, dataset):\n",
    "        data_list = list()\n",
    "        for i in range(self.n_estimators):\n",
    "            tmp_list = list()\n",
    "            sample_amount = int(len(dataset) * 2 / 3)\n",
    "            slist = random.sample(list(range(len(dataset))), sample_amount)\n",
    "            for j in range(sample_amount):\n",
    "                tmp_list.append(dataset[slist[j]])\n",
    "            data_list.append(tmp_list)\n",
    "        return data_list\n",
    "    \n",
    "    def accuracy(self, dataset):\n",
    "        correct = 0\n",
    "        for row in dataset:\n",
    "            outcome = []\n",
    "            for tree in self.forest:\n",
    "                outcome.append(self.classify(tree, row))\n",
    "            result = max(set(outcome), key=outcome.count)\n",
    "            if result == row[-1]:\n",
    "                correct += 1\n",
    "        return correct / len(dataset)"
   ]
  },
  {
   "cell_type": "markdown",
   "metadata": {},
   "source": [
    "### Question 4.1\n",
    "Using Criterion=‘gini’, Max_depth=None, Max_features=sqrt(n_features), showing the accuracy score of test data by n_estimators=10 and n_estimators=100, respectively.\n"
   ]
  },
  {
   "cell_type": "code",
   "execution_count": 14,
   "metadata": {},
   "outputs": [
    {
     "name": "stdout",
     "output_type": "stream",
     "text": [
      "accuracy:  0.9436619718309859\n",
      "accuracy:  0.9436619718309859\n"
     ]
    }
   ],
   "source": [
    "clf_10tree = RandomForest(n_estimators=10, max_features=math.sqrt(x_train.shape[1]))\n",
    "clf_10tree.build_forest(raw_xy_train)\n",
    "print(\"accuracy: \", clf_10tree.accuracy(raw_xy_test))\n",
    "clf_100tree = RandomForest(n_estimators=100, max_features=math.sqrt(x_train.shape[1]))\n",
    "clf_100tree.build_forest(raw_xy_train)\n",
    "print(\"accuracy: \", clf_10tree.accuracy(raw_xy_test))"
   ]
  },
  {
   "cell_type": "code",
   "execution_count": null,
   "metadata": {},
   "outputs": [],
   "source": []
  },
  {
   "cell_type": "markdown",
   "metadata": {},
   "source": [
    "### Question 4.2\n",
    "Using Criterion=‘gini’, Max_depth=None, N_estimators=10, showing the accuracy score of test data by Max_features=sqrt(n_features) and Max_features=n_features, respectively.\n"
   ]
  },
  {
   "cell_type": "code",
   "execution_count": 15,
   "metadata": {},
   "outputs": [
    {
     "name": "stdout",
     "output_type": "stream",
     "text": [
      "accuracy:  0.9436619718309859\n",
      "accuracy:  0.9366197183098591\n"
     ]
    }
   ],
   "source": [
    "clf_all_features = RandomForest(n_estimators=10, max_features=math.sqrt(x_train.shape[1]))\n",
    "clf_all_features.build_forest(raw_xy_train)\n",
    "print(\"accuracy: \", clf_all_features.accuracy(raw_xy_test))\n",
    "clf_random_features = RandomForest(n_estimators=10, max_features=x_train.shape[1])\n",
    "clf_random_features.build_forest(raw_xy_train)\n",
    "print(\"accuracy: \", clf_random_features.accuracy(raw_xy_test))"
   ]
  },
  {
   "cell_type": "markdown",
   "metadata": {},
   "source": [
    "- Note: Use majority votes to get the final prediction, you may get slightly different results when re-building the random forest model"
   ]
  },
  {
   "cell_type": "code",
   "execution_count": null,
   "metadata": {},
   "outputs": [],
   "source": []
  },
  {
   "cell_type": "markdown",
   "metadata": {},
   "source": [
    "## Supplementary\n",
    "If you have trouble to implement this homework, TA strongly recommend watching [this video](https://www.youtube.com/watch?v=LDRbO9a6XPU), which explains Decision Tree model clearly. But don't copy code from any resources, try to finish this homework by yourself! "
   ]
  },
  {
   "cell_type": "code",
   "execution_count": null,
   "metadata": {},
   "outputs": [],
   "source": []
  }
 ],
 "metadata": {
  "kernelspec": {
   "display_name": "Python 3",
   "language": "python",
   "name": "python3"
  },
  "language_info": {
   "codemirror_mode": {
    "name": "ipython",
    "version": 3
   },
   "file_extension": ".py",
   "mimetype": "text/x-python",
   "name": "python",
   "nbconvert_exporter": "python",
   "pygments_lexer": "ipython3",
   "version": "3.7.4"
  }
 },
 "nbformat": 4,
 "nbformat_minor": 4
}
